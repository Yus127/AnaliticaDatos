{
  "nbformat": 4,
  "nbformat_minor": 0,
  "metadata": {
    "colab": {
      "name": "challenge.ipynb",
      "provenance": [],
      "collapsed_sections": []
    },
    "kernelspec": {
      "name": "python3",
      "display_name": "Python 3"
    }
  },
  "cells": [
    {
      "cell_type": "markdown",
      "metadata": {
        "id": "G7ICI90zIhXs"
      },
      "source": [
        "# Challenge de Analítica: Data en Kaggle\r\n",
        "Busca en : https://www.kaggle.com/datasets  \r\n",
        "Selecciona una dataset que te guste y cargalo en tu Colab!\r\n",
        "Tu dataset debe contar con:\r\n",
        "- Columna de fecha\r\n",
        "- Variables cuantitativas (contínuas) \r\n",
        "- Variables cualitativas (nominales u ordinales)\r\n",
        "\r\n",
        "**Equipo Minimax:** \r\n",
        "- Yusdivia Molina Román\r\n",
        "- Diego Enrique Jiménez Urgell\r\n"
      ]
    },
    {
      "cell_type": "markdown",
      "metadata": {
        "id": "6s8Fcg2gJQqZ"
      },
      "source": [
        "# Librerías\r\n",
        "Agrega las librerías que necesitas:"
      ]
    },
    {
      "cell_type": "code",
      "metadata": {
        "id": "JZ3pJu0AJaTI",
        "colab": {
          "base_uri": "https://localhost:8080/",
          "height": 300
        },
        "outputId": "ac32f5c9-7a22-45c5-8e9b-ade82195c54b"
      },
      "source": [
        "%matplotlib inline\n",
        "import pandas as pd\n",
        "import matplotlib.pyplot as plt\n",
        "import seaborn as sas\n",
        "import numpy as np\n",
        "import time\n",
        "\n",
        "from google.colab import drive\n",
        "drive.mount('/content/drive')\n",
        "\n",
        "games = pd.read_csv(\"/content/drive/MyDrive/semanaTecAnalitica/games.csv\")\n",
        "games.head(n=5)"
      ],
      "execution_count": null,
      "outputs": [
        {
          "output_type": "stream",
          "text": [
            "Drive already mounted at /content/drive; to attempt to forcibly remount, call drive.mount(\"/content/drive\", force_remount=True).\n"
          ],
          "name": "stdout"
        },
        {
          "output_type": "execute_result",
          "data": {
            "text/html": [
              "<div>\n",
              "<style scoped>\n",
              "    .dataframe tbody tr th:only-of-type {\n",
              "        vertical-align: middle;\n",
              "    }\n",
              "\n",
              "    .dataframe tbody tr th {\n",
              "        vertical-align: top;\n",
              "    }\n",
              "\n",
              "    .dataframe thead th {\n",
              "        text-align: right;\n",
              "    }\n",
              "</style>\n",
              "<table border=\"1\" class=\"dataframe\">\n",
              "  <thead>\n",
              "    <tr style=\"text-align: right;\">\n",
              "      <th></th>\n",
              "      <th>id</th>\n",
              "      <th>rated</th>\n",
              "      <th>created_at</th>\n",
              "      <th>last_move_at</th>\n",
              "      <th>turns</th>\n",
              "      <th>victory_status</th>\n",
              "      <th>winner</th>\n",
              "      <th>increment_code</th>\n",
              "      <th>white_id</th>\n",
              "      <th>white_rating</th>\n",
              "      <th>black_id</th>\n",
              "      <th>black_rating</th>\n",
              "      <th>moves</th>\n",
              "      <th>opening_eco</th>\n",
              "      <th>opening_name</th>\n",
              "      <th>opening_ply</th>\n",
              "    </tr>\n",
              "  </thead>\n",
              "  <tbody>\n",
              "    <tr>\n",
              "      <th>0</th>\n",
              "      <td>TZJHLljE</td>\n",
              "      <td>False</td>\n",
              "      <td>1.504210e+12</td>\n",
              "      <td>1.504210e+12</td>\n",
              "      <td>13</td>\n",
              "      <td>outoftime</td>\n",
              "      <td>white</td>\n",
              "      <td>15+2</td>\n",
              "      <td>bourgris</td>\n",
              "      <td>1500</td>\n",
              "      <td>a-00</td>\n",
              "      <td>1191</td>\n",
              "      <td>d4 d5 c4 c6 cxd5 e6 dxe6 fxe6 Nf3 Bb4+ Nc3 Ba5...</td>\n",
              "      <td>D10</td>\n",
              "      <td>Slav Defense: Exchange Variation</td>\n",
              "      <td>5</td>\n",
              "    </tr>\n",
              "    <tr>\n",
              "      <th>1</th>\n",
              "      <td>l1NXvwaE</td>\n",
              "      <td>True</td>\n",
              "      <td>1.504130e+12</td>\n",
              "      <td>1.504130e+12</td>\n",
              "      <td>16</td>\n",
              "      <td>resign</td>\n",
              "      <td>black</td>\n",
              "      <td>5+10</td>\n",
              "      <td>a-00</td>\n",
              "      <td>1322</td>\n",
              "      <td>skinnerua</td>\n",
              "      <td>1261</td>\n",
              "      <td>d4 Nc6 e4 e5 f4 f6 dxe5 fxe5 fxe5 Nxe5 Qd4 Nc6...</td>\n",
              "      <td>B00</td>\n",
              "      <td>Nimzowitsch Defense: Kennedy Variation</td>\n",
              "      <td>4</td>\n",
              "    </tr>\n",
              "    <tr>\n",
              "      <th>2</th>\n",
              "      <td>mIICvQHh</td>\n",
              "      <td>True</td>\n",
              "      <td>1.504130e+12</td>\n",
              "      <td>1.504130e+12</td>\n",
              "      <td>61</td>\n",
              "      <td>mate</td>\n",
              "      <td>white</td>\n",
              "      <td>5+10</td>\n",
              "      <td>ischia</td>\n",
              "      <td>1496</td>\n",
              "      <td>a-00</td>\n",
              "      <td>1500</td>\n",
              "      <td>e4 e5 d3 d6 Be3 c6 Be2 b5 Nd2 a5 a4 c5 axb5 Nc...</td>\n",
              "      <td>C20</td>\n",
              "      <td>King's Pawn Game: Leonardis Variation</td>\n",
              "      <td>3</td>\n",
              "    </tr>\n",
              "    <tr>\n",
              "      <th>3</th>\n",
              "      <td>kWKvrqYL</td>\n",
              "      <td>True</td>\n",
              "      <td>1.504110e+12</td>\n",
              "      <td>1.504110e+12</td>\n",
              "      <td>61</td>\n",
              "      <td>mate</td>\n",
              "      <td>white</td>\n",
              "      <td>20+0</td>\n",
              "      <td>daniamurashov</td>\n",
              "      <td>1439</td>\n",
              "      <td>adivanov2009</td>\n",
              "      <td>1454</td>\n",
              "      <td>d4 d5 Nf3 Bf5 Nc3 Nf6 Bf4 Ng4 e3 Nc6 Be2 Qd7 O...</td>\n",
              "      <td>D02</td>\n",
              "      <td>Queen's Pawn Game: Zukertort Variation</td>\n",
              "      <td>3</td>\n",
              "    </tr>\n",
              "    <tr>\n",
              "      <th>4</th>\n",
              "      <td>9tXo1AUZ</td>\n",
              "      <td>True</td>\n",
              "      <td>1.504030e+12</td>\n",
              "      <td>1.504030e+12</td>\n",
              "      <td>95</td>\n",
              "      <td>mate</td>\n",
              "      <td>white</td>\n",
              "      <td>30+3</td>\n",
              "      <td>nik221107</td>\n",
              "      <td>1523</td>\n",
              "      <td>adivanov2009</td>\n",
              "      <td>1469</td>\n",
              "      <td>e4 e5 Nf3 d6 d4 Nc6 d5 Nb4 a3 Na6 Nc3 Be7 b4 N...</td>\n",
              "      <td>C41</td>\n",
              "      <td>Philidor Defense</td>\n",
              "      <td>5</td>\n",
              "    </tr>\n",
              "  </tbody>\n",
              "</table>\n",
              "</div>"
            ],
            "text/plain": [
              "         id  rated  ...                            opening_name  opening_ply\n",
              "0  TZJHLljE  False  ...        Slav Defense: Exchange Variation            5\n",
              "1  l1NXvwaE   True  ...  Nimzowitsch Defense: Kennedy Variation            4\n",
              "2  mIICvQHh   True  ...   King's Pawn Game: Leonardis Variation            3\n",
              "3  kWKvrqYL   True  ...  Queen's Pawn Game: Zukertort Variation            3\n",
              "4  9tXo1AUZ   True  ...                        Philidor Defense            5\n",
              "\n",
              "[5 rows x 16 columns]"
            ]
          },
          "metadata": {
            "tags": []
          },
          "execution_count": 89
        }
      ]
    },
    {
      "cell_type": "markdown",
      "metadata": {
        "id": "J-w2XXUACEYu"
      },
      "source": [
        "El dataset tiene la fecha en formato Epoch, por lo que se aplica una función lambda, que convierte un integer a Date en formato %Y-%m-%d, a cada entry de las columnas *created at* y *last_move_at*."
      ]
    },
    {
      "cell_type": "code",
      "metadata": {
        "id": "DQOSSFyJUM_Q",
        "colab": {
          "base_uri": "https://localhost:8080/",
          "height": 1000
        },
        "outputId": "ffdd3259-fea3-488e-b4e4-78f6b472e07e"
      },
      "source": [
        "# Función lambda a aplicar en cada entry de las columnas con fecha Epoch\n",
        "func= lambda x: time.strftime('%Y-%m-%d',time.localtime(x/1000))\n",
        "\n",
        "# Agregar columnas con las fechas transformadas a Date\n",
        "games['CreatedDate']= games.created_at.apply(func)\n",
        "games['FinishDate']= games.last_move_at.apply(func)\n",
        "games.head(n=5)"
      ],
      "execution_count": null,
      "outputs": [
        {
          "output_type": "execute_result",
          "data": {
            "text/html": [
              "<div>\n",
              "<style scoped>\n",
              "    .dataframe tbody tr th:only-of-type {\n",
              "        vertical-align: middle;\n",
              "    }\n",
              "\n",
              "    .dataframe tbody tr th {\n",
              "        vertical-align: top;\n",
              "    }\n",
              "\n",
              "    .dataframe thead th {\n",
              "        text-align: right;\n",
              "    }\n",
              "</style>\n",
              "<table border=\"1\" class=\"dataframe\">\n",
              "  <thead>\n",
              "    <tr style=\"text-align: right;\">\n",
              "      <th></th>\n",
              "      <th>id</th>\n",
              "      <th>rated</th>\n",
              "      <th>created_at</th>\n",
              "      <th>last_move_at</th>\n",
              "      <th>turns</th>\n",
              "      <th>victory_status</th>\n",
              "      <th>winner</th>\n",
              "      <th>increment_code</th>\n",
              "      <th>white_id</th>\n",
              "      <th>white_rating</th>\n",
              "      <th>black_id</th>\n",
              "      <th>black_rating</th>\n",
              "      <th>moves</th>\n",
              "      <th>opening_eco</th>\n",
              "      <th>opening_name</th>\n",
              "      <th>opening_ply</th>\n",
              "      <th>CreatedDate</th>\n",
              "      <th>FinishDate</th>\n",
              "    </tr>\n",
              "  </thead>\n",
              "  <tbody>\n",
              "    <tr>\n",
              "      <th>0</th>\n",
              "      <td>TZJHLljE</td>\n",
              "      <td>False</td>\n",
              "      <td>1.504210e+12</td>\n",
              "      <td>1.504210e+12</td>\n",
              "      <td>13</td>\n",
              "      <td>outoftime</td>\n",
              "      <td>white</td>\n",
              "      <td>15+2</td>\n",
              "      <td>bourgris</td>\n",
              "      <td>1500</td>\n",
              "      <td>a-00</td>\n",
              "      <td>1191</td>\n",
              "      <td>d4 d5 c4 c6 cxd5 e6 dxe6 fxe6 Nf3 Bb4+ Nc3 Ba5...</td>\n",
              "      <td>D10</td>\n",
              "      <td>Slav Defense: Exchange Variation</td>\n",
              "      <td>5</td>\n",
              "      <td>2017-08-31</td>\n",
              "      <td>2017-08-31</td>\n",
              "    </tr>\n",
              "    <tr>\n",
              "      <th>1</th>\n",
              "      <td>l1NXvwaE</td>\n",
              "      <td>True</td>\n",
              "      <td>1.504130e+12</td>\n",
              "      <td>1.504130e+12</td>\n",
              "      <td>16</td>\n",
              "      <td>resign</td>\n",
              "      <td>black</td>\n",
              "      <td>5+10</td>\n",
              "      <td>a-00</td>\n",
              "      <td>1322</td>\n",
              "      <td>skinnerua</td>\n",
              "      <td>1261</td>\n",
              "      <td>d4 Nc6 e4 e5 f4 f6 dxe5 fxe5 fxe5 Nxe5 Qd4 Nc6...</td>\n",
              "      <td>B00</td>\n",
              "      <td>Nimzowitsch Defense: Kennedy Variation</td>\n",
              "      <td>4</td>\n",
              "      <td>2017-08-30</td>\n",
              "      <td>2017-08-30</td>\n",
              "    </tr>\n",
              "    <tr>\n",
              "      <th>2</th>\n",
              "      <td>mIICvQHh</td>\n",
              "      <td>True</td>\n",
              "      <td>1.504130e+12</td>\n",
              "      <td>1.504130e+12</td>\n",
              "      <td>61</td>\n",
              "      <td>mate</td>\n",
              "      <td>white</td>\n",
              "      <td>5+10</td>\n",
              "      <td>ischia</td>\n",
              "      <td>1496</td>\n",
              "      <td>a-00</td>\n",
              "      <td>1500</td>\n",
              "      <td>e4 e5 d3 d6 Be3 c6 Be2 b5 Nd2 a5 a4 c5 axb5 Nc...</td>\n",
              "      <td>C20</td>\n",
              "      <td>King's Pawn Game: Leonardis Variation</td>\n",
              "      <td>3</td>\n",
              "      <td>2017-08-30</td>\n",
              "      <td>2017-08-30</td>\n",
              "    </tr>\n",
              "    <tr>\n",
              "      <th>3</th>\n",
              "      <td>kWKvrqYL</td>\n",
              "      <td>True</td>\n",
              "      <td>1.504110e+12</td>\n",
              "      <td>1.504110e+12</td>\n",
              "      <td>61</td>\n",
              "      <td>mate</td>\n",
              "      <td>white</td>\n",
              "      <td>20+0</td>\n",
              "      <td>daniamurashov</td>\n",
              "      <td>1439</td>\n",
              "      <td>adivanov2009</td>\n",
              "      <td>1454</td>\n",
              "      <td>d4 d5 Nf3 Bf5 Nc3 Nf6 Bf4 Ng4 e3 Nc6 Be2 Qd7 O...</td>\n",
              "      <td>D02</td>\n",
              "      <td>Queen's Pawn Game: Zukertort Variation</td>\n",
              "      <td>3</td>\n",
              "      <td>2017-08-30</td>\n",
              "      <td>2017-08-30</td>\n",
              "    </tr>\n",
              "    <tr>\n",
              "      <th>4</th>\n",
              "      <td>9tXo1AUZ</td>\n",
              "      <td>True</td>\n",
              "      <td>1.504030e+12</td>\n",
              "      <td>1.504030e+12</td>\n",
              "      <td>95</td>\n",
              "      <td>mate</td>\n",
              "      <td>white</td>\n",
              "      <td>30+3</td>\n",
              "      <td>nik221107</td>\n",
              "      <td>1523</td>\n",
              "      <td>adivanov2009</td>\n",
              "      <td>1469</td>\n",
              "      <td>e4 e5 Nf3 d6 d4 Nc6 d5 Nb4 a3 Na6 Nc3 Be7 b4 N...</td>\n",
              "      <td>C41</td>\n",
              "      <td>Philidor Defense</td>\n",
              "      <td>5</td>\n",
              "      <td>2017-08-29</td>\n",
              "      <td>2017-08-29</td>\n",
              "    </tr>\n",
              "  </tbody>\n",
              "</table>\n",
              "</div>"
            ],
            "text/plain": [
              "         id  rated    created_at  ...  opening_ply  CreatedDate  FinishDate\n",
              "0  TZJHLljE  False  1.504210e+12  ...            5   2017-08-31  2017-08-31\n",
              "1  l1NXvwaE   True  1.504130e+12  ...            4   2017-08-30  2017-08-30\n",
              "2  mIICvQHh   True  1.504130e+12  ...            3   2017-08-30  2017-08-30\n",
              "3  kWKvrqYL   True  1.504110e+12  ...            3   2017-08-30  2017-08-30\n",
              "4  9tXo1AUZ   True  1.504030e+12  ...            5   2017-08-29  2017-08-29\n",
              "\n",
              "[5 rows x 18 columns]"
            ]
          },
          "metadata": {
            "tags": []
          },
          "execution_count": 90
        }
      ]
    },
    {
      "cell_type": "markdown",
      "metadata": {
        "id": "01qf4OcoJbS_"
      },
      "source": [
        "# Estructura del dataset\r\n",
        "Visualiza la estructura del data set: \r\n",
        "\r\n",
        "\r\n",
        "*   Número de renglones\r\n",
        "\r\n"
      ]
    },
    {
      "cell_type": "code",
      "metadata": {
        "id": "u3Dmlb5_JPmO",
        "colab": {
          "base_uri": "https://localhost:8080/"
        },
        "outputId": "b3d608d9-ecc3-4de7-bbf3-6bff77bb4de6"
      },
      "source": [
        "len(games)\n"
      ],
      "execution_count": null,
      "outputs": [
        {
          "output_type": "execute_result",
          "data": {
            "text/plain": [
              "20058"
            ]
          },
          "metadata": {
            "tags": []
          },
          "execution_count": 76
        }
      ]
    },
    {
      "cell_type": "markdown",
      "metadata": {
        "id": "oo-ylh8dCnOB"
      },
      "source": [
        "*   Número de columnas\n"
      ]
    },
    {
      "cell_type": "code",
      "metadata": {
        "colab": {
          "base_uri": "https://localhost:8080/"
        },
        "id": "HHiwM78MU2MM",
        "outputId": "32198905-ddaf-441b-ff81-8746ae2cefef"
      },
      "source": [
        "len(games.columns)\n"
      ],
      "execution_count": null,
      "outputs": [
        {
          "output_type": "execute_result",
          "data": {
            "text/plain": [
              "18"
            ]
          },
          "metadata": {
            "tags": []
          },
          "execution_count": 77
        }
      ]
    },
    {
      "cell_type": "markdown",
      "metadata": {
        "id": "gS5dv8sHCo6H"
      },
      "source": [
        "*   Tipos de datos de todas las variables"
      ]
    },
    {
      "cell_type": "code",
      "metadata": {
        "colab": {
          "base_uri": "https://localhost:8080/"
        },
        "id": "ACl5l3W2U3Kr",
        "outputId": "dc1ff321-d208-409c-d959-dec4a09a8633"
      },
      "source": [
        "games.dtypes"
      ],
      "execution_count": null,
      "outputs": [
        {
          "output_type": "execute_result",
          "data": {
            "text/plain": [
              "id                 object\n",
              "rated                bool\n",
              "created_at        float64\n",
              "last_move_at      float64\n",
              "turns               int64\n",
              "victory_status     object\n",
              "winner             object\n",
              "increment_code     object\n",
              "white_id           object\n",
              "white_rating        int64\n",
              "black_id           object\n",
              "black_rating        int64\n",
              "moves              object\n",
              "opening_eco        object\n",
              "opening_name       object\n",
              "opening_ply         int64\n",
              "CreatedDate        object\n",
              "FinishDate         object\n",
              "dtype: object"
            ]
          },
          "metadata": {
            "tags": []
          },
          "execution_count": 78
        }
      ]
    },
    {
      "cell_type": "markdown",
      "metadata": {
        "id": "apDF9bRBLPzC"
      },
      "source": [
        "# Estadística Descriptiva\r\n",
        "Obtén la tabla resumen de todas las variables.\r\n",
        "Muestra, de dos columnas:\r\n",
        "* media\r\n",
        "* mediana\r\n",
        "* min\r\n",
        "* max\r\n",
        "* std"
      ]
    },
    {
      "cell_type": "code",
      "metadata": {
        "id": "61eDemVuLmdk",
        "colab": {
          "base_uri": "https://localhost:8080/",
          "height": 291
        },
        "outputId": "d4868e06-904b-49b7-a56d-bb1844d0f675"
      },
      "source": [
        "games.describe()"
      ],
      "execution_count": null,
      "outputs": [
        {
          "output_type": "execute_result",
          "data": {
            "text/html": [
              "<div>\n",
              "<style scoped>\n",
              "    .dataframe tbody tr th:only-of-type {\n",
              "        vertical-align: middle;\n",
              "    }\n",
              "\n",
              "    .dataframe tbody tr th {\n",
              "        vertical-align: top;\n",
              "    }\n",
              "\n",
              "    .dataframe thead th {\n",
              "        text-align: right;\n",
              "    }\n",
              "</style>\n",
              "<table border=\"1\" class=\"dataframe\">\n",
              "  <thead>\n",
              "    <tr style=\"text-align: right;\">\n",
              "      <th></th>\n",
              "      <th>created_at</th>\n",
              "      <th>last_move_at</th>\n",
              "      <th>turns</th>\n",
              "      <th>white_rating</th>\n",
              "      <th>black_rating</th>\n",
              "      <th>opening_ply</th>\n",
              "    </tr>\n",
              "  </thead>\n",
              "  <tbody>\n",
              "    <tr>\n",
              "      <th>count</th>\n",
              "      <td>2.005800e+04</td>\n",
              "      <td>2.005800e+04</td>\n",
              "      <td>20058.000000</td>\n",
              "      <td>20058.000000</td>\n",
              "      <td>20058.000000</td>\n",
              "      <td>20058.000000</td>\n",
              "    </tr>\n",
              "    <tr>\n",
              "      <th>mean</th>\n",
              "      <td>1.483617e+12</td>\n",
              "      <td>1.483618e+12</td>\n",
              "      <td>60.465999</td>\n",
              "      <td>1596.631868</td>\n",
              "      <td>1588.831987</td>\n",
              "      <td>4.816981</td>\n",
              "    </tr>\n",
              "    <tr>\n",
              "      <th>std</th>\n",
              "      <td>2.850151e+10</td>\n",
              "      <td>2.850140e+10</td>\n",
              "      <td>33.570585</td>\n",
              "      <td>291.253376</td>\n",
              "      <td>291.036126</td>\n",
              "      <td>2.797152</td>\n",
              "    </tr>\n",
              "    <tr>\n",
              "      <th>min</th>\n",
              "      <td>1.376772e+12</td>\n",
              "      <td>1.376772e+12</td>\n",
              "      <td>1.000000</td>\n",
              "      <td>784.000000</td>\n",
              "      <td>789.000000</td>\n",
              "      <td>1.000000</td>\n",
              "    </tr>\n",
              "    <tr>\n",
              "      <th>25%</th>\n",
              "      <td>1.477548e+12</td>\n",
              "      <td>1.477548e+12</td>\n",
              "      <td>37.000000</td>\n",
              "      <td>1398.000000</td>\n",
              "      <td>1391.000000</td>\n",
              "      <td>3.000000</td>\n",
              "    </tr>\n",
              "    <tr>\n",
              "      <th>50%</th>\n",
              "      <td>1.496010e+12</td>\n",
              "      <td>1.496010e+12</td>\n",
              "      <td>55.000000</td>\n",
              "      <td>1567.000000</td>\n",
              "      <td>1562.000000</td>\n",
              "      <td>4.000000</td>\n",
              "    </tr>\n",
              "    <tr>\n",
              "      <th>75%</th>\n",
              "      <td>1.503170e+12</td>\n",
              "      <td>1.503170e+12</td>\n",
              "      <td>79.000000</td>\n",
              "      <td>1793.000000</td>\n",
              "      <td>1784.000000</td>\n",
              "      <td>6.000000</td>\n",
              "    </tr>\n",
              "    <tr>\n",
              "      <th>max</th>\n",
              "      <td>1.504493e+12</td>\n",
              "      <td>1.504494e+12</td>\n",
              "      <td>349.000000</td>\n",
              "      <td>2700.000000</td>\n",
              "      <td>2723.000000</td>\n",
              "      <td>28.000000</td>\n",
              "    </tr>\n",
              "  </tbody>\n",
              "</table>\n",
              "</div>"
            ],
            "text/plain": [
              "         created_at  last_move_at  ...  black_rating   opening_ply\n",
              "count  2.005800e+04  2.005800e+04  ...  20058.000000  20058.000000\n",
              "mean   1.483617e+12  1.483618e+12  ...   1588.831987      4.816981\n",
              "std    2.850151e+10  2.850140e+10  ...    291.036126      2.797152\n",
              "min    1.376772e+12  1.376772e+12  ...    789.000000      1.000000\n",
              "25%    1.477548e+12  1.477548e+12  ...   1391.000000      3.000000\n",
              "50%    1.496010e+12  1.496010e+12  ...   1562.000000      4.000000\n",
              "75%    1.503170e+12  1.503170e+12  ...   1784.000000      6.000000\n",
              "max    1.504493e+12  1.504494e+12  ...   2723.000000     28.000000\n",
              "\n",
              "[8 rows x 6 columns]"
            ]
          },
          "metadata": {
            "tags": []
          },
          "execution_count": 79
        }
      ]
    },
    {
      "cell_type": "code",
      "metadata": {
        "colab": {
          "base_uri": "https://localhost:8080/"
        },
        "id": "f8yC8vsvVoRa",
        "outputId": "67b1464e-1ec3-44ae-b9e4-24353aa5e5ad"
      },
      "source": [
        "print(games[\"turns\"].mean())\n",
        "print(games[\"turns\"].median())\n",
        "print(games[\"turns\"].min())\n",
        "print(games[\"turns\"].max())\n",
        "print(games[\"turns\"].std())\n",
        "\n"
      ],
      "execution_count": null,
      "outputs": [
        {
          "output_type": "stream",
          "text": [
            "60.46599860404826\n",
            "55.0\n",
            "1\n",
            "349\n",
            "33.570584753537055\n"
          ],
          "name": "stdout"
        }
      ]
    },
    {
      "cell_type": "code",
      "metadata": {
        "colab": {
          "base_uri": "https://localhost:8080/"
        },
        "id": "fQ_1LZWlWDTU",
        "outputId": "a24dcacf-1b42-4dc6-e35a-390eddb87d70"
      },
      "source": [
        "print(games[\"black_rating\"].mean())\n",
        "print(games[\"black_rating\"].median())\n",
        "print(games[\"black_rating\"].min())\n",
        "print(games[\"black_rating\"].max())\n",
        "print(games[\"black_rating\"].std())\n",
        "\n"
      ],
      "execution_count": null,
      "outputs": [
        {
          "output_type": "stream",
          "text": [
            "1588.8319872370128\n",
            "1562.0\n",
            "789\n",
            "2723\n",
            "291.03612596033696\n"
          ],
          "name": "stdout"
        }
      ]
    },
    {
      "cell_type": "markdown",
      "metadata": {
        "id": "LjCVHej2LnXn"
      },
      "source": [
        "# Agrupamientos\r\n",
        "Selecciona y crea dos agrupamientos de dos columnas.\r\n"
      ]
    },
    {
      "cell_type": "code",
      "metadata": {
        "id": "Z6lHfQBaIf9s",
        "colab": {
          "base_uri": "https://localhost:8080/"
        },
        "outputId": "bea39a67-46c4-4499-db30-28fb51a814ba"
      },
      "source": [
        "gVicStatus=games.groupby('victory_status')['turns'].mean()\n",
        "gVicStatus\n"
      ],
      "execution_count": null,
      "outputs": [
        {
          "output_type": "execute_result",
          "data": {
            "text/plain": [
              "victory_status\n",
              "draw         83.781457\n",
              "mate         65.415020\n",
              "outoftime    72.742857\n",
              "resign       53.912533\n",
              "Name: turns, dtype: float64"
            ]
          },
          "metadata": {
            "tags": []
          },
          "execution_count": 82
        }
      ]
    },
    {
      "cell_type": "code",
      "metadata": {
        "id": "ZhXtKHjlaUmP",
        "colab": {
          "base_uri": "https://localhost:8080/",
          "height": 170
        },
        "outputId": "d4bd6c55-6c29-4d09-8fa5-eddba32f5455"
      },
      "source": [
        "whitesId=games.groupby('white_id')['white_rating'].mean()\n",
        "whites=pd.DataFrame(whitesId)\n",
        "whites =pd.DataFrame(whites.white_rating.sort_values(ascending=False))\n",
        "whites.head(n=3)\n"
      ],
      "execution_count": null,
      "outputs": [
        {
          "output_type": "execute_result",
          "data": {
            "text/html": [
              "<div>\n",
              "<style scoped>\n",
              "    .dataframe tbody tr th:only-of-type {\n",
              "        vertical-align: middle;\n",
              "    }\n",
              "\n",
              "    .dataframe tbody tr th {\n",
              "        vertical-align: top;\n",
              "    }\n",
              "\n",
              "    .dataframe thead th {\n",
              "        text-align: right;\n",
              "    }\n",
              "</style>\n",
              "<table border=\"1\" class=\"dataframe\">\n",
              "  <thead>\n",
              "    <tr style=\"text-align: right;\">\n",
              "      <th></th>\n",
              "      <th>white_rating</th>\n",
              "    </tr>\n",
              "    <tr>\n",
              "      <th>white_id</th>\n",
              "      <th></th>\n",
              "    </tr>\n",
              "  </thead>\n",
              "  <tbody>\n",
              "    <tr>\n",
              "      <th>justicebot</th>\n",
              "      <td>2700.000000</td>\n",
              "    </tr>\n",
              "    <tr>\n",
              "      <th>blitzbullet</th>\n",
              "      <td>2622.000000</td>\n",
              "    </tr>\n",
              "    <tr>\n",
              "      <th>lance5500</th>\n",
              "      <td>2616.034483</td>\n",
              "    </tr>\n",
              "  </tbody>\n",
              "</table>\n",
              "</div>"
            ],
            "text/plain": [
              "             white_rating\n",
              "white_id                 \n",
              "justicebot    2700.000000\n",
              "blitzbullet   2622.000000\n",
              "lance5500     2616.034483"
            ]
          },
          "metadata": {
            "tags": []
          },
          "execution_count": 83
        }
      ]
    },
    {
      "cell_type": "markdown",
      "metadata": {
        "id": "G-Ymah7CLz4S"
      },
      "source": [
        "# Gráficas\r\n",
        "Crea las siguientes gráficas:\r\n",
        "* Boxplot de una variable y agrega su interpretación.\r\n",
        "* Bloxplot de todas las variables de un agrupamiento y agrega su interpretación.\r\n",
        "* Barplot de una variable agrupada y agrega su interpretación.\r\n",
        "* Dos gráficas de tiempo: una usando la columna de date y otra con sólo el año (y agrega su interpretación)"
      ]
    },
    {
      "cell_type": "markdown",
      "metadata": {
        "id": "NLYezODkDBg-"
      },
      "source": [
        "### Número de turnos en un juego"
      ]
    },
    {
      "cell_type": "code",
      "metadata": {
        "colab": {
          "base_uri": "https://localhost:8080/",
          "height": 621
        },
        "id": "u7uUHNCVA8cQ",
        "outputId": "86126388-19c1-4cf2-a3f3-9e1053b2dd90"
      },
      "source": [
        "plt.figure(figsize=(15,10))\n",
        "sas.boxplot(x=\"turns\", y=\"winner\", data=games)"
      ],
      "execution_count": null,
      "outputs": [
        {
          "output_type": "execute_result",
          "data": {
            "text/plain": [
              "<matplotlib.axes._subplots.AxesSubplot at 0x7f615cdff390>"
            ]
          },
          "metadata": {
            "tags": []
          },
          "execution_count": 84
        },
        {
          "output_type": "display_data",
          "data": {
            "image/png": "[encoded data removed]",
            "text/plain": [
              "<Figure size 1080x720 with 1 Axes>"
            ]
          },
          "metadata": {
            "tags": [],
            "needs_background": "light"
          }
        }
      ]
    },
    {
      "cell_type": "markdown",
      "metadata": {
        "id": "wTew11vRBZbR"
      },
      "source": [
        "Aquí podemos observar el número de turnos que se toma para determinar un ganador o declarar un empate. Vemos que por lo regular se toman menos turnos para que ganen las fichas blancas a las negras. Esto se debe a que, las blancas poseen una ventaja al iniciar el juego. Por otro lado, observamos que se toman muchos más turnos para declarar un empate, esto sucede pues la mayoría de las veces se termina el tiempo. \n"
      ]
    },
    {
      "cell_type": "markdown",
      "metadata": {
        "id": "JP_310v7Dbue"
      },
      "source": [
        "### Relación entre opening y rating de los jugadores"
      ]
    },
    {
      "cell_type": "code",
      "metadata": {
        "colab": {
          "base_uri": "https://localhost:8080/",
          "height": 892
        },
        "id": "PpuLb1DPBG05",
        "outputId": "a0848b1c-64e6-4f3a-fac9-2d6f4bfea69c"
      },
      "source": [
        "pp =games[games.opening_eco.isin(['D10', 'B00', 'C20', 'D02', 'C41', 'B27', 'D00', 'C50', 'B01','A00', 'C02', 'C00','D01', 'C45', 'D06', 'B52'])]\n",
        "plt.figure(figsize=(20,15))\n",
        "sas.boxplot(x=\"opening_eco\",y= \"white_rating\", data=pp, orient=\"v\")\n"
      ],
      "execution_count": null,
      "outputs": [
        {
          "output_type": "execute_result",
          "data": {
            "text/plain": [
              "<matplotlib.axes._subplots.AxesSubplot at 0x7f615c6e6c10>"
            ]
          },
          "metadata": {
            "tags": []
          },
          "execution_count": 85
        },
        {
          "output_type": "display_data",
          "data": {
            "image/png": "[encoded data removed]",
            "text/plain": [
              "<Figure size 1440x1080 with 1 Axes>"
            ]
          },
          "metadata": {
            "tags": [],
            "needs_background": "light"
          }
        }
      ]
    },
    {
      "cell_type": "markdown",
      "metadata": {
        "id": "1EFyMkdyBeIW"
      },
      "source": [
        "Aquí podemos ver la relación entre el código para cada apertura y el puntaje final del jugador con piezas blancas. Podemos ver que no hay una relación directa entre el tipo de apertura que se elige y el puntaje final, por lo cual el que gane un jugador u otro no depende directamente en el tipo de apertura que se elige. \n"
      ]
    },
    {
      "cell_type": "markdown",
      "metadata": {
        "id": "OAq0NClrDjQ2"
      },
      "source": [
        "### Openings más efectivos"
      ]
    },
    {
      "cell_type": "code",
      "metadata": {
        "id": "5_BYaqNnL0Lr",
        "colab": {
          "base_uri": "https://localhost:8080/",
          "height": 908
        },
        "outputId": "c0741c1b-8108-48c8-96a3-e130d1cf3122"
      },
      "source": [
        "# Separar los datos dependiendo de quien ganó, posteriormente separar por opening\n",
        "# y contar cuantos jugadores usaron cada opening diferente\n",
        "white=games[games.winner==\"white\"].opening_eco.value_counts()\n",
        "black=games[games.winner==\"black\"].opening_eco.value_counts()\n",
        "\n",
        "# Obtener la proporción de jugadores blancos que ganan con cada opening\n",
        "ratio_opening = pd.DataFrame(white/(white+black))\n",
        "\n",
        "# Seleccionar solamente las openings cuyo ratio de victoria para los blancos sea \n",
        "# mayor al 60%\n",
        "effective_opening=ratio_opening[ratio_opening.opening_eco > 0.6]\n",
        "\n",
        "# Graficar\n",
        "plt.figure(figsize=(20,15))\n",
        "ax= sas.barplot(y=effective_opening.index, x=effective_opening.opening_eco, orient=\"h\")\n",
        "\n",
        "ax.set_title('White winning ratio of effective openings')\n",
        "ax.set_ylabel('Opening')\n",
        "ax.set_xlabel('Ratio of white over black winner')\n",
        "\n"
      ],
      "execution_count": null,
      "outputs": [
        {
          "output_type": "execute_result",
          "data": {
            "text/plain": [
              "Text(0.5, 0, 'Ratio of white over black winner')"
            ]
          },
          "metadata": {
            "tags": []
          },
          "execution_count": 86
        },
        {
          "output_type": "display_data",
          "data": {
            "image/png": "[encoded data removed]",
            "text/plain": [
              "<Figure size 1440x1080 with 1 Axes>"
            ]
          },
          "metadata": {
            "tags": [],
            "needs_background": "light"
          }
        }
      ]
    },
    {
      "cell_type": "markdown",
      "metadata": {
        "id": "1Mvv46k0D7Zz"
      },
      "source": [
        "Esta gráfica muestra el ratio de victorias blancas sobre partidas totales para diferentes openings. Debido a que el dataset tenía más de 360 openings, se seleccionaron únicamente las que tienen un ratio mayor al 60%. Esto significa que si un jugador de piezas blancas escoge empezar con alguna de estas openings, su probabilidad de ganar la partida sería mínimo de 60%. Algunas, como la E21, indican una probabilidad de victoria de más del 80%. Esta gráfica puede servir como una guía que ayude a los jugadores a determinar la mejor opening en sus partidas. "
      ]
    },
    {
      "cell_type": "markdown",
      "metadata": {
        "id": "yXPGNbIwDp85"
      },
      "source": [
        "### Distribución de partidas por mes"
      ]
    },
    {
      "cell_type": "code",
      "metadata": {
        "colab": {
          "base_uri": "https://localhost:8080/",
          "height": 636
        },
        "id": "qHIEI5JTeLQl",
        "outputId": "402bb7b3-026e-4276-cc83-a87282aaaae5"
      },
      "source": [
        "games['Month'] = pd.DatetimeIndex(games['CreatedDate']).month\n",
        "\n",
        "games_per_month = pd.DataFrame(games[\"Month\"].value_counts())\n",
        "games_per_month.sort_index()\n",
        "plt.figure(figsize=(20,10))\n",
        "ax=sas.lineplot(x=games_per_month.index, y=games_per_month.Month)\n",
        "ax.set_title('Number of games per month')\n",
        "ax.set_xlabel('Month')\n",
        "ax.set_ylabel('Games')"
      ],
      "execution_count": null,
      "outputs": [
        {
          "output_type": "execute_result",
          "data": {
            "text/plain": [
              "Text(0, 0.5, 'Games')"
            ]
          },
          "metadata": {
            "tags": []
          },
          "execution_count": 87
        },
        {
          "output_type": "display_data",
          "data": {
            "image/png": "[encoded data removed]",
            "text/plain": [
              "<Figure size 1440x720 with 1 Axes>"
            ]
          },
          "metadata": {
            "tags": [],
            "needs_background": "light"
          }
        }
      ]
    },
    {
      "cell_type": "markdown",
      "metadata": {
        "id": "t9-DgnPkFpUk"
      },
      "source": [
        "Esta gráfica muestra la distribución de partidas a lo largo del año. Es evidente que en Agosto aumenta drásticamente el número de partidas, y en el resto del año disminuyen. Esto probablemente se debe a que en el mes de Agosto hay algún torneo que incentiva a las personas a jugar más. "
      ]
    },
    {
      "cell_type": "markdown",
      "metadata": {
        "id": "N99Akw-aDvwJ"
      },
      "source": [
        "### Distribución de partidas por año"
      ]
    },
    {
      "cell_type": "code",
      "metadata": {
        "colab": {
          "base_uri": "https://localhost:8080/",
          "height": 636
        },
        "id": "cmO01UdlimjQ",
        "outputId": "3f389a71-ef97-4e2a-a51f-8fa2913fce44"
      },
      "source": [
        "games[\"Year\"] = pd.DatetimeIndex(games['CreatedDate']).year\n",
        "games_per_year = pd.DataFrame(games[\"Year\"].value_counts())\n",
        "\n",
        "plt.figure(figsize=(15,10))\n",
        "ax= sas.barplot(x=games_per_year.index, y=games_per_year.Year)\n",
        "ax.set_title('Number of games per year')\n",
        "ax.set_xlabel('Year')\n",
        "ax.set_ylabel('Games')"
      ],
      "execution_count": null,
      "outputs": [
        {
          "output_type": "execute_result",
          "data": {
            "text/plain": [
              "Text(0, 0.5, 'Games')"
            ]
          },
          "metadata": {
            "tags": []
          },
          "execution_count": 88
        },
        {
          "output_type": "display_data",
          "data": {
            "image/png": "[encoded data removed]",
            "text/plain": [
              "<Figure size 1080x720 with 1 Axes>"
            ]
          },
          "metadata": {
            "tags": [],
            "needs_background": "light"
          }
        }
      ]
    },
    {
      "cell_type": "markdown",
      "metadata": {
        "id": "vQWaknMPGWwm"
      },
      "source": [
        "La gráfica muestra la distribución de las partidas a lo largo de un lustro. Se puede observar que en 2013 había muy pocas partidas, y poco a poco fueron aumentando. Para 2017, el número de partidas prácticamente se triplicó con respecto a 2016. Esto indica que el ajedrez se ha popularizado a lo largo de los años. "
      ]
    }
  ]
}